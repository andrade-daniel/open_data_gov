{
 "cells": [
  {
   "cell_type": "code",
   "execution_count": 1,
   "metadata": {},
   "outputs": [
    {
     "data": {
      "application/javascript": [
       "\n",
       "            setTimeout(function() {\n",
       "                var nbb_cell_id = 1;\n",
       "                var nbb_formatted_code = \"%load_ext nb_black\";\n",
       "                var nbb_cells = Jupyter.notebook.get_cells();\n",
       "                for (var i = 0; i < nbb_cells.length; ++i) {\n",
       "                    if (nbb_cells[i].input_prompt_number == nbb_cell_id) {\n",
       "                        nbb_cells[i].set_text(nbb_formatted_code);\n",
       "                        break;\n",
       "                    }\n",
       "                }\n",
       "            }, 500);\n",
       "            "
      ],
      "text/plain": [
       "<IPython.core.display.Javascript object>"
      ]
     },
     "metadata": {},
     "output_type": "display_data"
    }
   ],
   "source": [
    "%load_ext nb_black"
   ]
  },
  {
   "cell_type": "markdown",
   "metadata": {},
   "source": [
    "# Web scraping dados.justica.gov.pt"
   ]
  },
  {
   "cell_type": "markdown",
   "metadata": {},
   "source": [
    "## loading package and retrieving data"
   ]
  },
  {
   "cell_type": "code",
   "execution_count": 70,
   "metadata": {},
   "outputs": [
    {
     "data": {
      "application/javascript": [
       "\n",
       "            setTimeout(function() {\n",
       "                var nbb_cell_id = 70;\n",
       "                var nbb_formatted_code = \"import requests\\nimport pickle\\nimport pandas as pd\\nfrom bs4 import BeautifulSoup\";\n",
       "                var nbb_cells = Jupyter.notebook.get_cells();\n",
       "                for (var i = 0; i < nbb_cells.length; ++i) {\n",
       "                    if (nbb_cells[i].input_prompt_number == nbb_cell_id) {\n",
       "                        nbb_cells[i].set_text(nbb_formatted_code);\n",
       "                        break;\n",
       "                    }\n",
       "                }\n",
       "            }, 500);\n",
       "            "
      ],
      "text/plain": [
       "<IPython.core.display.Javascript object>"
      ]
     },
     "metadata": {},
     "output_type": "display_data"
    }
   ],
   "source": [
    "import requests\n",
    "import pickle\n",
    "import pandas as pd\n",
    "from bs4 import BeautifulSoup"
   ]
  },
  {
   "cell_type": "markdown",
   "metadata": {},
   "source": [
    "## funtions for scraping/data retrieval"
   ]
  },
  {
   "cell_type": "code",
   "execution_count": 52,
   "metadata": {},
   "outputs": [
    {
     "data": {
      "application/javascript": [
       "\n",
       "            setTimeout(function() {\n",
       "                var nbb_cell_id = 52;\n",
       "                var nbb_formatted_code = \"def extract_html(url):\\n    r = requests.get(url)\\n    print(f\\\"request status code: {r.status_code}\\\")\\n    soup = BeautifulSoup(r.text, \\\"html.parser\\\")\\n    return soup\\n\\n\\n# def extract_html_csv(soup):\\n#     csv = [a['href'] for a in soup.find_all('a', href=True) if '/dataset/' in a['href'] and a['href'][-3:] == 'csv']\\n#     csv = pd.read_csv(csv[0], encoding='latin-1')\\n#     return csv\\n\\n\\ndef extract_csv_url(soup):\\n    csv = [\\n        a[\\\"href\\\"]\\n        for a in soup.find_all(\\\"a\\\", href=True)\\n        if \\\"/dataset/\\\" in a[\\\"href\\\"] and a[\\\"href\\\"][-3:] == \\\"csv\\\"\\n    ]\\n    return csv\";\n",
       "                var nbb_cells = Jupyter.notebook.get_cells();\n",
       "                for (var i = 0; i < nbb_cells.length; ++i) {\n",
       "                    if (nbb_cells[i].input_prompt_number == nbb_cell_id) {\n",
       "                        nbb_cells[i].set_text(nbb_formatted_code);\n",
       "                        break;\n",
       "                    }\n",
       "                }\n",
       "            }, 500);\n",
       "            "
      ],
      "text/plain": [
       "<IPython.core.display.Javascript object>"
      ]
     },
     "metadata": {},
     "output_type": "display_data"
    }
   ],
   "source": [
    "def extract_html(url):\n",
    "    r = requests.get(url)\n",
    "    print(f\"request status code: {r.status_code}\")\n",
    "    soup = BeautifulSoup(r.text, \"html.parser\")\n",
    "    return soup\n",
    "\n",
    "\n",
    "# def extract_html_csv(soup):\n",
    "#     csv = [a['href'] for a in soup.find_all('a', href=True) if '/dataset/' in a['href'] and a['href'][-3:] == 'csv']\n",
    "#     csv = pd.read_csv(csv[0], encoding='latin-1')\n",
    "#     return csv\n",
    "\n",
    "\n",
    "def extract_csv_url(soup):\n",
    "    csv = [\n",
    "        a[\"href\"]\n",
    "        for a in soup.find_all(\"a\", href=True)\n",
    "        if \"/dataset/\" in a[\"href\"] and a[\"href\"][-3:] == \"csv\"\n",
    "    ]\n",
    "    return csv"
   ]
  },
  {
   "cell_type": "markdown",
   "metadata": {},
   "source": [
    "## scraping urls"
   ]
  },
  {
   "cell_type": "code",
   "execution_count": 4,
   "metadata": {},
   "outputs": [
    {
     "data": {
      "application/javascript": [
       "\n",
       "            setTimeout(function() {\n",
       "                var nbb_cell_id = 4;\n",
       "                var nbb_formatted_code = \"urls = []\\nfor page in range(1, 5):\\n    urls.append(f\\\"https://dados.justica.gov.pt/dataset?page={page}\\\")\\n\\nr_ls = []\\nsoup_ls = []\\ndata_name = []\\ndata_name_url = []\\ndata_descricao = []\\ndata_name_list = []\\ndf_ls = []\\nfor url in urls:\\n    r_ls.append(requests.get(url))\\nfor r in r_ls:\\n    soup_ls.append(BeautifulSoup(r.text, \\\"html.parser\\\"))\\nfor soup in soup_ls:\\n    data_name_list.append(soup.find_all(\\\"h3\\\", class_=\\\"dataset-heading\\\"))\\n    for k in data_name_list:\\n        for data in k:\\n            if data.find(\\\"a\\\"):\\n                data_name_url.append(data.find(\\\"a\\\")[\\\"href\\\"])\\n                data_name.append(data.find(\\\"a\\\").text)\\ndf = pd.DataFrame(\\n    {\\n        \\\"tema\\\": data_name,\\n        #      \\\"descricao\\\": data_descricao,\\n        \\\"url\\\": data_name_url,\\n    }\\n)\";\n",
       "                var nbb_cells = Jupyter.notebook.get_cells();\n",
       "                for (var i = 0; i < nbb_cells.length; ++i) {\n",
       "                    if (nbb_cells[i].input_prompt_number == nbb_cell_id) {\n",
       "                        nbb_cells[i].set_text(nbb_formatted_code);\n",
       "                        break;\n",
       "                    }\n",
       "                }\n",
       "            }, 500);\n",
       "            "
      ],
      "text/plain": [
       "<IPython.core.display.Javascript object>"
      ]
     },
     "metadata": {},
     "output_type": "display_data"
    }
   ],
   "source": [
    "urls = []\n",
    "for page in range(1, 5): # 4 pages\n",
    "    urls.append(f\"https://dados.justica.gov.pt/dataset?page={page}\")\n",
    "\n",
    "r_ls = []\n",
    "soup_ls = []\n",
    "data_name = []\n",
    "data_name_url = []\n",
    "data_descricao = []\n",
    "data_name_list = []\n",
    "df_ls = []\n",
    "for url in urls:\n",
    "    r_ls.append(requests.get(url))\n",
    "for r in r_ls:\n",
    "    soup_ls.append(BeautifulSoup(r.text, \"html.parser\"))\n",
    "for soup in soup_ls:\n",
    "    data_name_list.append(soup.find_all(\"h3\", class_=\"dataset-heading\"))\n",
    "    for k in data_name_list:\n",
    "        for data in k:\n",
    "            if data.find(\"a\"):\n",
    "                data_name_url.append(data.find(\"a\")[\"href\"])\n",
    "                data_name.append(data.find(\"a\").text)\n",
    "df = pd.DataFrame(\n",
    "    {\n",
    "        \"tema\": data_name,\n",
    "        #      \"descricao\": data_descricao,\n",
    "        \"url\": data_name_url,\n",
    "    }\n",
    ")"
   ]
  },
  {
   "cell_type": "code",
   "execution_count": 5,
   "metadata": {},
   "outputs": [
    {
     "data": {
      "application/javascript": [
       "\n",
       "            setTimeout(function() {\n",
       "                var nbb_cell_id = 5;\n",
       "                var nbb_formatted_code = \"df[\\\"url\\\"] = [\\\"https://dados.justica.gov.pt\\\" + k for k in df[\\\"url\\\"]]\";\n",
       "                var nbb_cells = Jupyter.notebook.get_cells();\n",
       "                for (var i = 0; i < nbb_cells.length; ++i) {\n",
       "                    if (nbb_cells[i].input_prompt_number == nbb_cell_id) {\n",
       "                        nbb_cells[i].set_text(nbb_formatted_code);\n",
       "                        break;\n",
       "                    }\n",
       "                }\n",
       "            }, 500);\n",
       "            "
      ],
      "text/plain": [
       "<IPython.core.display.Javascript object>"
      ]
     },
     "metadata": {},
     "output_type": "display_data"
    }
   ],
   "source": [
    "df[\"url\"] = [\"https://dados.justica.gov.pt\" + k for k in df[\"url\"]]"
   ]
  },
  {
   "cell_type": "code",
   "execution_count": 22,
   "metadata": {},
   "outputs": [
    {
     "data": {
      "text/plain": [
       "179    https://dados.justica.gov.pt/dataset/nacionali...\n",
       "180    https://dados.justica.gov.pt/dataset/nacionali...\n",
       "181         https://dados.justica.gov.pt/dataset/sheet47\n",
       "Name: url, dtype: object"
      ]
     },
     "execution_count": 22,
     "metadata": {},
     "output_type": "execute_result"
    },
    {
     "data": {
      "application/javascript": [
       "\n",
       "            setTimeout(function() {\n",
       "                var nbb_cell_id = 22;\n",
       "                var nbb_formatted_code = \"df[\\\"url\\\"][-3:]\";\n",
       "                var nbb_cells = Jupyter.notebook.get_cells();\n",
       "                for (var i = 0; i < nbb_cells.length; ++i) {\n",
       "                    if (nbb_cells[i].input_prompt_number == nbb_cell_id) {\n",
       "                        nbb_cells[i].set_text(nbb_formatted_code);\n",
       "                        break;\n",
       "                    }\n",
       "                }\n",
       "            }, 500);\n",
       "            "
      ],
      "text/plain": [
       "<IPython.core.display.Javascript object>"
      ]
     },
     "metadata": {},
     "output_type": "display_data"
    }
   ],
   "source": [
    "df[\"url\"][-3:]"
   ]
  },
  {
   "cell_type": "code",
   "execution_count": 48,
   "metadata": {},
   "outputs": [
    {
     "data": {
      "application/javascript": [
       "\n",
       "            setTimeout(function() {\n",
       "                var nbb_cell_id = 48;\n",
       "                var nbb_formatted_code = \"filter_empty = [\\\"sheet\\\" not in i for i in df[\\\"url\\\"]]\\ndf = df.loc[filter_empty, :]\";\n",
       "                var nbb_cells = Jupyter.notebook.get_cells();\n",
       "                for (var i = 0; i < nbb_cells.length; ++i) {\n",
       "                    if (nbb_cells[i].input_prompt_number == nbb_cell_id) {\n",
       "                        nbb_cells[i].set_text(nbb_formatted_code);\n",
       "                        break;\n",
       "                    }\n",
       "                }\n",
       "            }, 500);\n",
       "            "
      ],
      "text/plain": [
       "<IPython.core.display.Javascript object>"
      ]
     },
     "metadata": {},
     "output_type": "display_data"
    }
   ],
   "source": [
    "# filtering empty object\n",
    "filter_empty = [\"sheet\" not in i for i in df[\"url\"]]\n",
    "df = df.loc[filter_empty, :]"
   ]
  },
  {
   "cell_type": "code",
   "execution_count": null,
   "metadata": {},
   "outputs": [],
   "source": [
    "df[\"url\"] = [extract_csv_url(extract_html(url)) for url in df[\"url\"]]"
   ]
  },
  {
   "cell_type": "code",
   "execution_count": 61,
   "metadata": {},
   "outputs": [
    {
     "data": {
      "application/javascript": [
       "\n",
       "            setTimeout(function() {\n",
       "                var nbb_cell_id = 61;\n",
       "                var nbb_formatted_code = \"df.to_csv(\\\"dados-justica-gov-pt_urls_csvs.csv\\\", index=None, encoding=\\\"latin-1\\\")\";\n",
       "                var nbb_cells = Jupyter.notebook.get_cells();\n",
       "                for (var i = 0; i < nbb_cells.length; ++i) {\n",
       "                    if (nbb_cells[i].input_prompt_number == nbb_cell_id) {\n",
       "                        nbb_cells[i].set_text(nbb_formatted_code);\n",
       "                        break;\n",
       "                    }\n",
       "                }\n",
       "            }, 500);\n",
       "            "
      ],
      "text/plain": [
       "<IPython.core.display.Javascript object>"
      ]
     },
     "metadata": {},
     "output_type": "display_data"
    }
   ],
   "source": [
    "# save csv with urls of the data (csv files)\n",
    "df.to_csv(\"dados-justica-gov-pt_urls_csvs.csv\", index=None, encoding=\"latin-1\")"
   ]
  },
  {
   "cell_type": "markdown",
   "metadata": {},
   "source": [
    "## scraping content of csv files and saving it"
   ]
  },
  {
   "cell_type": "code",
   "execution_count": 65,
   "metadata": {},
   "outputs": [
    {
     "data": {
      "application/javascript": [
       "\n",
       "            setTimeout(function() {\n",
       "                var nbb_cell_id = 65;\n",
       "                var nbb_formatted_code = \"csv_ls = [pd.read_csv(url[0], encoding=\\\"latin-1\\\", chunksize=10000) for url in df[\\\"url\\\"]]\";\n",
       "                var nbb_cells = Jupyter.notebook.get_cells();\n",
       "                for (var i = 0; i < nbb_cells.length; ++i) {\n",
       "                    if (nbb_cells[i].input_prompt_number == nbb_cell_id) {\n",
       "                        nbb_cells[i].set_text(nbb_formatted_code);\n",
       "                        break;\n",
       "                    }\n",
       "                }\n",
       "            }, 500);\n",
       "            "
      ],
      "text/plain": [
       "<IPython.core.display.Javascript object>"
      ]
     },
     "metadata": {},
     "output_type": "display_data"
    }
   ],
   "source": [
    "csv_ls = [pd.read_csv(url[0], encoding=\"latin-1\", chunksize=1000) for url in df[\"url\"]]"
   ]
  },
  {
   "cell_type": "code",
   "execution_count": 75,
   "metadata": {},
   "outputs": [
    {
     "data": {
      "application/javascript": [
       "\n",
       "            setTimeout(function() {\n",
       "                var nbb_cell_id = 75;\n",
       "                var nbb_formatted_code = \"cc = [pd.concat(chunk) for chunk in csv_ls]\";\n",
       "                var nbb_cells = Jupyter.notebook.get_cells();\n",
       "                for (var i = 0; i < nbb_cells.length; ++i) {\n",
       "                    if (nbb_cells[i].input_prompt_number == nbb_cell_id) {\n",
       "                        nbb_cells[i].set_text(nbb_formatted_code);\n",
       "                        break;\n",
       "                    }\n",
       "                }\n",
       "            }, 500);\n",
       "            "
      ],
      "text/plain": [
       "<IPython.core.display.Javascript object>"
      ]
     },
     "metadata": {},
     "output_type": "display_data"
    }
   ],
   "source": [
    "csv_ls = [pd.concat(chunk) for chunk in csv_ls]"
   ]
  },
  {
   "cell_type": "code",
   "execution_count": 89,
   "metadata": {},
   "outputs": [
    {
     "data": {
      "application/javascript": [
       "\n",
       "            setTimeout(function() {\n",
       "                var nbb_cell_id = 89;\n",
       "                var nbb_formatted_code = \"csv_ls = list(zip(df[\\\"tema\\\"], csv_ls))\";\n",
       "                var nbb_cells = Jupyter.notebook.get_cells();\n",
       "                for (var i = 0; i < nbb_cells.length; ++i) {\n",
       "                    if (nbb_cells[i].input_prompt_number == nbb_cell_id) {\n",
       "                        nbb_cells[i].set_text(nbb_formatted_code);\n",
       "                        break;\n",
       "                    }\n",
       "                }\n",
       "            }, 500);\n",
       "            "
      ],
      "text/plain": [
       "<IPython.core.display.Javascript object>"
      ]
     },
     "metadata": {},
     "output_type": "display_data"
    }
   ],
   "source": [
    "csv_ls = list(zip(df[\"tema\"], csv_ls))"
   ]
  },
  {
   "cell_type": "code",
   "execution_count": 90,
   "metadata": {},
   "outputs": [
    {
     "data": {
      "application/javascript": [
       "\n",
       "            setTimeout(function() {\n",
       "                var nbb_cell_id = 90;\n",
       "                var nbb_formatted_code = \"with open(\\\"csv_ls.pickle\\\", \\\"wb\\\") as f:\\n    pickle.dump(csv_ls, f)\\n# load pickle file\\n# pickle.load(open(\\\"csv_ls.pickle\\\", \\\"rb\\\"))\";\n",
       "                var nbb_cells = Jupyter.notebook.get_cells();\n",
       "                for (var i = 0; i < nbb_cells.length; ++i) {\n",
       "                    if (nbb_cells[i].input_prompt_number == nbb_cell_id) {\n",
       "                        nbb_cells[i].set_text(nbb_formatted_code);\n",
       "                        break;\n",
       "                    }\n",
       "                }\n",
       "            }, 500);\n",
       "            "
      ],
      "text/plain": [
       "<IPython.core.display.Javascript object>"
      ]
     },
     "metadata": {},
     "output_type": "display_data"
    }
   ],
   "source": [
    "with open(\"csv_ls.pickle\", \"wb\") as f:\n",
    "    pickle.dump(csv_ls, f)\n",
    "# load pickle file\n",
    "# pickle.load(open(\"csv_ls.pickle\", \"rb\"))"
   ]
  }
 ],
 "metadata": {
  "kernelspec": {
   "display_name": "Python 3",
   "language": "python",
   "name": "python3"
  },
  "language_info": {
   "codemirror_mode": {
    "name": "ipython",
    "version": 3
   },
   "file_extension": ".py",
   "mimetype": "text/x-python",
   "name": "python",
   "nbconvert_exporter": "python",
   "pygments_lexer": "ipython3",
   "version": "3.7.3"
  },
  "toc": {
   "base_numbering": 1,
   "nav_menu": {},
   "number_sections": true,
   "sideBar": true,
   "skip_h1_title": false,
   "title_cell": "Table of Contents",
   "title_sidebar": "Contents",
   "toc_cell": false,
   "toc_position": {},
   "toc_section_display": true,
   "toc_window_display": false
  },
  "varInspector": {
   "cols": {
    "lenName": 16,
    "lenType": 16,
    "lenVar": 40
   },
   "kernels_config": {
    "python": {
     "delete_cmd_postfix": "",
     "delete_cmd_prefix": "del ",
     "library": "var_list.py",
     "varRefreshCmd": "print(var_dic_list())"
    },
    "r": {
     "delete_cmd_postfix": ") ",
     "delete_cmd_prefix": "rm(",
     "library": "var_list.r",
     "varRefreshCmd": "cat(var_dic_list()) "
    }
   },
   "types_to_exclude": [
    "module",
    "function",
    "builtin_function_or_method",
    "instance",
    "_Feature"
   ],
   "window_display": false
  }
 },
 "nbformat": 4,
 "nbformat_minor": 2
}
